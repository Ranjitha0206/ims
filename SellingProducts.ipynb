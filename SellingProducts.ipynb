{
  "nbformat": 4,
  "nbformat_minor": 0,
  "metadata": {
    "colab": {
      "name": "SellingProducts.ipynb",
      "provenance": [],
      "collapsed_sections": [],
      "authorship_tag": "ABX9TyP/ztY0XUPRAnLF4SmvrRBJ",
      "include_colab_link": true
    },
    "kernelspec": {
      "name": "python3",
      "display_name": "Python 3"
    },
    "language_info": {
      "name": "python"
    }
  },
  "cells": [
    {
      "cell_type": "markdown",
      "metadata": {
        "id": "view-in-github",
        "colab_type": "text"
      },
      "source": [
        "<a href=\"https://colab.research.google.com/github/Ranjitha0206/ims/blob/main/SellingProducts.ipynb\" target=\"_parent\"><img src=\"https://colab.research.google.com/assets/colab-badge.svg\" alt=\"Open In Colab\"/></a>"
      ]
    },
    {
      "cell_type": "code",
      "metadata": {
        "colab": {
          "base_uri": "https://localhost:8080/"
        },
        "id": "dKwe6oD2wC_g",
        "outputId": "6c300df3-2ee6-4e97-ab8a-2caca00e66fd"
      },
      "source": [
        "import json\n",
        "\n",
        "fd = open(\"products.json\",'r')\n",
        "r = fd.read()\n",
        "fd.close()\n",
        "\n",
        "products = json.loads(r)\n",
        "\n",
        "\n",
        "\n",
        "print(\"Welcome to shop\")\n",
        "\n",
        "\n",
        "ui_prod = input(\"Enter the product Id: \")\n",
        "ui_quan = int(input(\"Enter the quantity of the Product: \"))\n",
        "\n",
        "for i in products.keys():\n",
        "    while ui_prod == i:\n",
        "        if ui_quan <= products[i]['quan']:\n",
        "            print(\"****************************************\")\n",
        "            print(\"             product:\",products[ui_prod]['name'])\n",
        "            print(\"               price:\",products[ui_prod]['price'])\n",
        "            print(\"         Expiry date:\",products[ui_prod]['expiry'])\n",
        "            print(\" Manufacturing Brand:\",products[ui_prod]['brand'])\n",
        "            print(\"****************************************\")\n",
        "            print(\"----------BILLING DETAILS:---------- \")\n",
        "            print(\"Total Amount: \",products[ui_prod]['price']*ui_quan) \n",
        "            print(\"Enjoy Your Day\")\n",
        "            print(\"Thank You. Visit Again\")\n",
        "            print(\"**********************************\")\n",
        "            products[ui_prod][\"quan\"] = products[ui_prod][\"quan\"] - ui_quan\n",
        "        else:\n",
        "            print(\"Sorry. Stock of product you enterd is: \",products[ui_prod]['quan'],\"\\nPlease accept our apologies for this inconvenience\")\n",
        "        break\n",
        "if ui_prod not in products.keys():\n",
        "   print(\"Sorry. No product found for ID: \",ui_prod,\"\\Please enter valid product ID\")\n",
        "    \n",
        "    \n",
        "js = json.dumps(products)\n",
        "\n",
        "fd = open(\"products.json\",'w')\n",
        "fd.write(js)\n",
        "fd.close()\n",
        "\n",
        "## The sold items information is stored on sales.json\n",
        "fd = open(\"sales.json\",'r')\n",
        "trans = fd.read()\n",
        "fd.close()\n",
        "\n",
        "sales = json.loads(trans)\n",
        "num = len(sales)+1\n",
        "\n",
        "sales[num] = {'prod':ui_prod, 'quan' : ui_quan, 'amount': products[ui_prod]['price'] * ui_quan}\n",
        "sale = json.dumps(sales)\n",
        "\n",
        "fd = open(\"sales.json\",'w')\n",
        "fd.write(sale)\n",
        "fd.close()"
      ],
      "execution_count": 11,
      "outputs": [
        {
          "output_type": "stream",
          "name": "stdout",
          "text": [
            "Welcome to shop\n",
            "Enter the product Id: 1001\n",
            "Enter the quantity of the Product: 2\n",
            "****************************************\n",
            "             product: Pepsi Can\n",
            "               price: 153\n",
            "         Expiry date: 20 oct 2023\n",
            " Manufacturing Brand: Pepsi\n",
            "****************************************\n",
            "----------BILLING DETAILS:---------- \n",
            "Total Amount:  306\n",
            "Enjoy Your Day\n",
            "Thank You. Visit Again\n",
            "**********************************\n"
          ]
        }
      ]
    },
    {
      "cell_type": "code",
      "metadata": {
        "colab": {
          "base_uri": "https://localhost:8080/"
        },
        "id": "njk3WXjwwR56",
        "outputId": "8178bf44-0c44-4079-bbb3-f84f3eeaba07"
      },
      "source": [
        "products"
      ],
      "execution_count": 5,
      "outputs": [
        {
          "output_type": "execute_result",
          "data": {
            "text/plain": [
              "{'1001': {'brand': 'Pepsi',\n",
              "  'expiry': '20 oct 2023',\n",
              "  'name': 'Pepsi Can',\n",
              "  'price': 153,\n",
              "  'quan': 48},\n",
              " '1002': {'brand': 'Tata',\n",
              "  'expiry': '12 jan 2022',\n",
              "  'name': 'Tata Salt',\n",
              "  'price': 20,\n",
              "  'quan': 130},\n",
              " '1003': {'brand': 'Tata',\n",
              "  'expiry': '10 mar 2023',\n",
              "  'name': 'Tata Tea Gold',\n",
              "  'price': 48,\n",
              "  'quan': 145},\n",
              " '1004': {'brand': 'Tata',\n",
              "  'expiry': '23 jun 2023',\n",
              "  'name': 'Turmeric Powder',\n",
              "  'price': 52,\n",
              "  'quan': 122},\n",
              " '1005': {'brand': 'Quaker',\n",
              "  'expiry': '30 oct 2022',\n",
              "  'name': 'Quaker Oats',\n",
              "  'price': 285,\n",
              "  'quan': 30},\n",
              " '1006': {'brand': 'Saffola',\n",
              "  'expiry': '29 jan 2022',\n",
              "  'name': 'Saffola Active',\n",
              "  'price': 207,\n",
              "  'quan': 58},\n",
              " '1007': {'brand': 'Nestle',\n",
              "  'expiry': '31 aug 2022',\n",
              "  'name': 'Kitkat Desert',\n",
              "  'price': 55,\n",
              "  'quan': 59},\n",
              " '1008': {'brand': 'Dark Fantasy',\n",
              "  'expiry': '21 feb 2022',\n",
              "  'name': 'Dark Fantasy Choco Fills',\n",
              "  'price': 90,\n",
              "  'quan': 90},\n",
              " '1009': {'brand': 'Candyman Fantastik',\n",
              "  'expiry': '28 dec 2021',\n",
              "  'name': 'Candyman Fantasy',\n",
              "  'price': 80,\n",
              "  'quan': 95},\n",
              " '1010': {'brand': 'Lotte',\n",
              "  'expiry': '01 jun 2022',\n",
              "  'name': 'Lotte Choco Pie',\n",
              "  'price': 110,\n",
              "  'quan': 95},\n",
              " '1011': {'brand': 'Britania',\n",
              "  'expiry': '15 jul 2022',\n",
              "  'name': 'Britania Chocolate cake',\n",
              "  'price': 120,\n",
              "  'quan': 100},\n",
              " '1012': {'brand': 'Pillsbury',\n",
              "  'expiry': '02 dec 2021',\n",
              "  'name': 'Pillsbury cookes cake',\n",
              "  'price': 90,\n",
              "  'quan': 200},\n",
              " '1013': {'brand': 'Ore0',\n",
              "  'expiry': '30 dec 2021',\n",
              "  'name': 'Kraft Oreo Soft Cake',\n",
              "  'price': 249,\n",
              "  'quan': 120},\n",
              " '1014': {'brand': 'Sunfeast',\n",
              "  'expiry': '19 mar 2022',\n",
              "  'name': \"Mom's Magic Cashew\",\n",
              "  'price': 80,\n",
              "  'quan': 180},\n",
              " '1015': {'brand': 'Cadbury',\n",
              "  'expiry': '19 feb 2022',\n",
              "  'name': 'Cadbury Oreo chacolate',\n",
              "  'price': 60,\n",
              "  'quan': 185},\n",
              " '1016': {'brand': 'Betty Croker',\n",
              "  'expiry': '15 jan 2022',\n",
              "  'name': 'Betty Croker Pancake',\n",
              "  'price': 346,\n",
              "  'quan': 190},\n",
              " '1017': {'brand': 'Parle',\n",
              "  'expiry': '13 dec 2011',\n",
              "  'name': 'Parle G Original',\n",
              "  'price': 67,\n",
              "  'quan': 140},\n",
              " '1018': {'brand': \"Lay's\",\n",
              "  'expiry': '14 feb 2023',\n",
              "  'name': 'Lays Potato Chips',\n",
              "  'price': 30,\n",
              "  'quan': 450},\n",
              " '1019': {'brand': 'Bingo!',\n",
              "  'expiry': '20 dec 2023',\n",
              "  'name': 'Bingo! Mad Angle',\n",
              "  'price': 25,\n",
              "  'quan': 440},\n",
              " '1020': {'brand': \"Kellog's\",\n",
              "  'expiry': '25 jan 2024',\n",
              "  'name': \"Kellogg's pringles\",\n",
              "  'price': 85,\n",
              "  'quan': 400},\n",
              " '1021': {'brand': \"Dorito's\",\n",
              "  'expiry': '22 jan 2023',\n",
              "  'name': \"Dorito's Nacho Chips\",\n",
              "  'price': 90,\n",
              "  'quan': 360},\n",
              " '1022': {'brand': 'Thums Up',\n",
              "  'expiry': '20 dec 2024',\n",
              "  'name': 'Thums Up Soft Drink',\n",
              "  'price': 40,\n",
              "  'quan': 60},\n",
              " '1023': {'brand': 'Svami',\n",
              "  'expiry': '20 jun 2023',\n",
              "  'name': 'Svami Soda Water',\n",
              "  'price': 55,\n",
              "  'quan': 70},\n",
              " '1024': {'brand': 'Coca Cola',\n",
              "  'expiry': '22 jul 2023',\n",
              "  'name': 'Coca-Cola',\n",
              "  'price': 65,\n",
              "  'quan': 60},\n",
              " '1025': {'brand': 'Sprite',\n",
              "  'expiry': '20 nov 2023',\n",
              "  'name': 'Sprite Lime Flavor',\n",
              "  'price': 89,\n",
              "  'quan': 40},\n",
              " '1026': {'brand': 'Colgate',\n",
              "  'expiry': '20 jun 2024',\n",
              "  'name': 'Colgate Maxfresh',\n",
              "  'price': 215,\n",
              "  'quan': 55},\n",
              " '1027': {'brand': 'Pepsodent',\n",
              "  'expiry': '15 jul 2022',\n",
              "  'name': 'Pepsodent Gum Care',\n",
              "  'price': 300,\n",
              "  'quan': 150},\n",
              " '1028': {'brand': 'DABUR',\n",
              "  'expiry': '10 aug 2024',\n",
              "  'name': 'Dabur Amla Hair Oil',\n",
              "  'price': 247,\n",
              "  'quan': 100},\n",
              " '1029': {'brand': 'Nivea',\n",
              "  'expiry': '31 jul 2022',\n",
              "  'name': 'Nivea Men Face Wash',\n",
              "  'price': 149,\n",
              "  'quan': 98},\n",
              " '1030': {'brand': 'Himalaya',\n",
              "  'expiry': '22 may 2022',\n",
              "  'name': 'Himalaya Herbal Face wash',\n",
              "  'price': 104,\n",
              "  'quan': 200},\n",
              " '1031': {'brand': 'Himalaya',\n",
              "  'expiry': '31 may 2024',\n",
              "  'name': 'Himalaya Baby Powder',\n",
              "  'price': 243,\n",
              "  'quan': 150},\n",
              " '1032': {'brand': 'Nivea',\n",
              "  'expiry': '31 may 2024',\n",
              "  'name': 'Nivea Talcum Powder',\n",
              "  'price': 199,\n",
              "  'quan': 120},\n",
              " '1033': {'brand': 'FOGG',\n",
              "  'expiry': '01 jan 2024',\n",
              "  'name': 'Fogg Xtremo Scent',\n",
              "  'price': 299,\n",
              "  'quan': 155},\n",
              " '1034': {'brand': 'Villian',\n",
              "  'expiry': '31 may 2024',\n",
              "  'name': 'Villain Perfume men',\n",
              "  'price': 555,\n",
              "  'quan': 230},\n",
              " '1035': {'brand': 'Cadbury',\n",
              "  'expiry': '31 jan 2022',\n",
              "  'name': 'Dairy Milk Silk',\n",
              "  'price': 475,\n",
              "  'quan': 50},\n",
              " '1037': {'brand': 'Nestle',\n",
              "  'expiry': '31 Dec 2021',\n",
              "  'name': 'Munch Chocolate',\n",
              "  'price': 5,\n",
              "  'quan': 100}}"
            ]
          },
          "metadata": {},
          "execution_count": 5
        }
      ]
    },
    {
      "cell_type": "markdown",
      "metadata": {
        "id": "ydaPmzRVwlm9"
      },
      "source": [
        "Update Inventory after products sold"
      ]
    },
    {
      "cell_type": "code",
      "metadata": {
        "id": "2XyWcH_2wim4"
      },
      "source": [
        "sales = {1 : {'prod':ui_prod, 'quan':ui_quan, 'amount':products[ui_prod]['price']*ui_quan}}\n",
        "sal = json.dumps(sales)\n",
        "\n",
        "fd = open(\"sales.json\",'w')\n",
        "fd.write(sal)\n",
        "fd.close()"
      ],
      "execution_count": 6,
      "outputs": []
    },
    {
      "cell_type": "code",
      "metadata": {
        "colab": {
          "base_uri": "https://localhost:8080/"
        },
        "id": "TVqozMMmyKzv",
        "outputId": "2a51519d-0c75-4631-8a57-ce9055c2c2af"
      },
      "source": [
        "sales"
      ],
      "execution_count": 7,
      "outputs": [
        {
          "output_type": "execute_result",
          "data": {
            "text/plain": [
              "{1: {'amount': 306, 'prod': '1001', 'quan': 2}}"
            ]
          },
          "metadata": {},
          "execution_count": 7
        }
      ]
    },
    {
      "cell_type": "markdown",
      "metadata": {
        "id": "MLlFT_rtwkXf"
      },
      "source": [
        ""
      ]
    }
  ]
}